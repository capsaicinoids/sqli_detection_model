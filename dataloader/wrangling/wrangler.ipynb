{
 "cells": [
  {
   "attachments": {},
   "cell_type": "markdown",
   "metadata": {},
   "source": [
    "# Data Wrangler"
   ]
  },
  {
   "attachments": {},
   "cell_type": "markdown",
   "metadata": {},
   "source": [
    "## Import The Library"
   ]
  },
  {
   "cell_type": "code",
   "execution_count": 1,
   "metadata": {},
   "outputs": [],
   "source": [
    "import pandas as pd"
   ]
  },
  {
   "attachments": {},
   "cell_type": "markdown",
   "metadata": {},
   "source": [
    "## Import The Dataset"
   ]
  },
  {
   "cell_type": "code",
   "execution_count": 2,
   "metadata": {},
   "outputs": [],
   "source": [
    "dataset1 = pd.read_csv('raw_datasets/sqli.csv', index_col=False, encoding='utf-16')\n",
    "dataset2 = pd.read_csv('raw_datasets/sqliv2.csv', index_col=False, encoding='utf-16')\n",
    "dataset3 = pd.read_csv('raw_datasets/SQLiV3.csv', index_col=False, encoding='utf-8', usecols=['Sentence', 'Label'])\n",
    "dataset = pd.concat([dataset1, dataset2, dataset3])\n",
    "dataset.to_csv('processed_datasets/merged_sqli.csv', index=False)"
   ]
  },
  {
   "cell_type": "code",
   "execution_count": 3,
   "metadata": {},
   "outputs": [],
   "source": [
    "dataset = pd.read_csv('processed_datasets/merged_sqli.csv', encoding='utf-8')"
   ]
  },
  {
   "attachments": {},
   "cell_type": "markdown",
   "metadata": {},
   "source": [
    "## Check The Dataset Health"
   ]
  },
  {
   "cell_type": "code",
   "execution_count": 4,
   "metadata": {},
   "outputs": [
    {
     "name": "stdout",
     "output_type": "stream",
     "text": [
      "Sentence     32\n",
      "Label       255\n",
      "dtype: int64 11997 310\n"
     ]
    }
   ],
   "source": [
    "# Count How Many Missing Values In Both Columns(287)\n",
    "missing_values = dataset.isnull().sum()\n",
    "\n",
    "# Count How Many Duplicate Values In 'Sentence' Column (11997)\n",
    "duplicate_values = dataset[['Sentence']].duplicated().sum() \n",
    "\n",
    "# Count How Many Rows That Have Incorrect Label (310)\n",
    "incorrect_label = dataset[(dataset['Label'] != \"0\") & (dataset['Label'] != \"1\")].shape[0]\n",
    "\n",
    "print(missing_values, duplicate_values, incorrect_label)"
   ]
  },
  {
   "cell_type": "markdown",
   "metadata": {},
   "source": [
    "## Clean The Dataset"
   ]
  },
  {
   "cell_type": "code",
   "execution_count": 5,
   "metadata": {},
   "outputs": [],
   "source": [
    "# Drop Rows With Missing Values\n",
    "dataset.dropna(axis=0, inplace=True)\n",
    "\n",
    "# Drop Rows With Duplicate Values\n",
    "dataset.drop_duplicates(subset='Sentence', inplace=True)\n",
    "\n",
    "# Drop Rows With Incorrect Label\n",
    "dataset = dataset[(dataset['Label'] == \"0\") | (dataset['Label'] == \"1\")]\n",
    "\n",
    "# Change The Datatype Of Columns\n",
    "dataset = dataset.astype({'Sentence': str, 'Label': int})\n",
    "\n",
    "# Correct The Label\n",
    "dataset.iloc[45296:, 1] = 1"
   ]
  },
  {
   "attachments": {},
   "cell_type": "markdown",
   "metadata": {},
   "source": [
    "## Export The Dataset"
   ]
  },
  {
   "cell_type": "code",
   "execution_count": 6,
   "metadata": {},
   "outputs": [],
   "source": [
    "dataset.to_csv('processed_datasets/cleaned_sqli.csv', index=False)"
   ]
  },
  {
   "cell_type": "code",
   "execution_count": 11,
   "metadata": {},
   "outputs": [
    {
     "name": "stdout",
     "output_type": "stream",
     "text": [
      "Sentence        0\n",
      "Label       33547\n",
      "dtype: int64\n",
      "Sentence    0\n",
      "Label       0\n",
      "dtype: int64\n"
     ]
    }
   ],
   "source": [
    "print((dataset == 1).sum())\n",
    "print((dataset == 0).sum())"
   ]
  },
  {
   "cell_type": "code",
   "execution_count": null,
   "metadata": {},
   "outputs": [],
   "source": []
  }
 ],
 "metadata": {
  "kernelspec": {
   "display_name": "Python 3",
   "language": "python",
   "name": "python3"
  },
  "language_info": {
   "codemirror_mode": {
    "name": "ipython",
    "version": 3
   },
   "file_extension": ".py",
   "mimetype": "text/x-python",
   "name": "python",
   "nbconvert_exporter": "python",
   "pygments_lexer": "ipython3",
   "version": "3.11.3"
  },
  "orig_nbformat": 4
 },
 "nbformat": 4,
 "nbformat_minor": 2
}
