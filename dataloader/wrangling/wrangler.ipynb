{
 "cells": [
  {
   "attachments": {},
   "cell_type": "markdown",
   "metadata": {},
   "source": [
    "# Data Wrangler"
   ]
  },
  {
   "attachments": {},
   "cell_type": "markdown",
   "metadata": {},
   "source": [
    "## Import The Library"
   ]
  },
  {
   "cell_type": "code",
   "execution_count": 15,
   "metadata": {},
   "outputs": [],
   "source": [
    "import pandas as pd\n",
    "from wordcloud import WordCloud"
   ]
  },
  {
   "attachments": {},
   "cell_type": "markdown",
   "metadata": {},
   "source": [
    "## Import The Dataset"
   ]
  },
  {
   "cell_type": "code",
   "execution_count": 2,
   "metadata": {},
   "outputs": [],
   "source": [
    "dataset1 = pd.read_csv('raw_datasets/sqli.csv', index_col=False, encoding='utf-16')\n",
    "dataset2 = pd.read_csv('raw_datasets/sqliv2.csv', index_col=False, encoding='utf-16')\n",
    "dataset3 = pd.read_csv('raw_datasets/SQLiV3.csv', index_col=False, encoding='utf-8', usecols=['Sentence', 'Label'])\n",
    "dataset = pd.concat([dataset1, dataset2, dataset3])\n",
    "dataset.to_csv('processed_datasets/merged_sqli.csv', index=False)"
   ]
  },
  {
   "cell_type": "code",
   "execution_count": 3,
   "metadata": {},
   "outputs": [],
   "source": [
    "dataset = pd.read_csv('processed_datasets/merged_sqli.csv', encoding='utf-8')"
   ]
  },
  {
   "attachments": {},
   "cell_type": "markdown",
   "metadata": {},
   "source": [
    "## Check The Dataset Health"
   ]
  },
  {
   "cell_type": "code",
   "execution_count": 4,
   "metadata": {},
   "outputs": [],
   "source": [
    "# Count How Many Missing Values In Both Columns (287)\n",
    "missing_values = dataset.isnull().sum()\n",
    "\n",
    "# Count How Many Duplicate Values In 'Sentence' Column (11997)\n",
    "duplicate_values = dataset[['Sentence']].duplicated().sum() \n",
    "\n",
    "# Count How Many Rows That Have Incorrect Label (310)\n",
    "incorrect_label = dataset[(dataset['Label'] != \"0\") & (dataset['Label'] != \"1\")].shape[0]"
   ]
  },
  {
   "cell_type": "markdown",
   "metadata": {},
   "source": [
    "## Clean The Dataset"
   ]
  },
  {
   "cell_type": "code",
   "execution_count": 5,
   "metadata": {},
   "outputs": [],
   "source": [
    "# Drop Rows With Missing Values\n",
    "dataset.dropna(axis=0, inplace=True)\n",
    "\n",
    "# Drop Rows With Duplicate Values\n",
    "dataset.drop_duplicates(subset='Sentence', inplace=True)\n",
    "\n",
    "# Drop Rows With Incorrect Label\n",
    "dataset = dataset[(dataset['Label'] == \"0\") | (dataset['Label'] == \"1\")]\n",
    "\n",
    "# Change The Datatype Of Columns\n",
    "dataset = dataset.astype({'Sentence': str, 'Label': int})\n",
    "\n",
    "# Correct The Label\n",
    "dataset.iloc[45296:, 1] = 1"
   ]
  },
  {
   "attachments": {},
   "cell_type": "markdown",
   "metadata": {},
   "source": [
    "## Export The Dataset"
   ]
  },
  {
   "cell_type": "code",
   "execution_count": 6,
   "metadata": {},
   "outputs": [],
   "source": [
    "dataset.to_csv('processed_datasets/cleaned_sqli.csv', index=False)"
   ]
  },
  {
   "attachments": {},
   "cell_type": "markdown",
   "metadata": {},
   "source": [
    "## Distribution Of Labels"
   ]
  },
  {
   "cell_type": "code",
   "execution_count": 24,
   "metadata": {},
   "outputs": [
    {
     "name": "stdout",
     "output_type": "stream",
     "text": [
      "Total data points that belongs to label 1 is 33547 (59.27%)\n",
      "Total data points that belongs to label 0 is 23056 (40.73%)\n"
     ]
    },
    {
     "data": {
      "image/png": "[encoded data removed]",
      "text/plain": [
       "<Figure size 640x480 with 1 Axes>"
      ]
     },
     "metadata": {},
     "output_type": "display_data"
    }
   ],
   "source": [
    "dataset.groupby('Label')['Label'].count().plot.bar()\n",
    "print(\"Total data points that belongs to label 1 is {} ({}%)\".format((dataset['Label'].value_counts()[1]), round((dataset['Label'].value_counts()[1] / dataset.shape[0]) * 100, 2)))\n",
    "print(\"Total data points that belongs to label 0 is {} ({}%)\".format((dataset['Label'].value_counts()[0]), round((dataset['Label'].value_counts()[0] / dataset.shape[0]) * 100, 2)))"
   ]
  }
 ],
 "metadata": {
  "kernelspec": {
   "display_name": "Python 3",
   "language": "python",
   "name": "python3"
  },
  "language_info": {
   "codemirror_mode": {
    "name": "ipython",
    "version": 3
   },
   "file_extension": ".py",
   "mimetype": "text/x-python",
   "name": "python",
   "nbconvert_exporter": "python",
   "pygments_lexer": "ipython3",
   "version": "3.11.3"
  },
  "orig_nbformat": 4
 },
 "nbformat": 4,
 "nbformat_minor": 2
}
